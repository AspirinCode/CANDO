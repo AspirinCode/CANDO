{
 "cells": [
  {
   "cell_type": "markdown",
   "metadata": {},
   "source": [
    "# CANDO Tutorial\n",
    "\n",
    "This notebook will walk you through how to generate a CANDO matrix, set up a CANDO object, probe the data, benchmark the platform, and make therapeutic predictions. \n",
    "\n",
    "## Introduction"
   ]
  },
  {
   "cell_type": "markdown",
   "metadata": {},
   "source": [
    "## Getting Started\n",
    "\n",
    "We begin by importing the cando package. Once cando has been imported we can pull the example mappings and matrix data for this tutorial, `cnd.get_tutorial()`. Lastly, for our set up, we define important variables that will be used throughout this tutorial. These variables will be explained as each becomes important for different functions."
   ]
  },
  {
   "cell_type": "code",
   "execution_count": 2,
   "metadata": {},
   "outputs": [
    {
     "name": "stdout",
     "output_type": "stream",
     "text": [
      "Downloading data for tutorial...\n",
      "All data for tutorial downloaded.\n"
     ]
    }
   ],
   "source": [
    "import sys, os\n",
    "# import the cando package\n",
    "import cando as cnd\n",
    "\n",
    "# Pull data for this entire tutorial\n",
    "cnd.get_tutorial()\n",
    "\n",
    "# Define variables for matrix generation and CANDO object creation\n",
    "matrix_file='./examples/example-matrix.tsv'\n",
    "cmpd_map='./v2_0/mappings/drugbank-approved.tsv'\n",
    "ind_map='./v2_0/mappings/ctd_2_drugbank.tsv'\n",
    "cmpd_scores='./v2_0/cmpds/scores/drugbank-approved-rd_ecfp4.tsv'\n",
    "prot_scores='./examples/example-prots_scores.tsv'\n",
    "protein_set=\"./examples/example-uniprot_set\"\n",
    "dist_metric='rmsd'\n",
    "ncpus=3"
   ]
  },
  {
   "cell_type": "markdown",
   "metadata": {},
   "source": [
    "## Generating interaction matrix\n",
    "\n",
    "<span style=\"color:red\">**This step is optional**</span> - The example interaction matrix, `matrix_file`, has already been downloaded via `get_tutorial()`. This function may take a few minutes.\n",
    "\n",
    "In this step we will generate a matrix of 2,162 drugs by 64 proteins, populated with the corresponding interaction score betwen each drug and protein. The final matrix will have drugs as the columns (indexed according to the compound mapping file), and proteins as the indices (indexed by PDB and chain ID).\n",
    "\n",
    "The function `generate_matrix()` first creates a dataframe for all tanimoto scores comparing each drug in our dataset (2,162) to every potential binding site ligand from the PDB, `cmpd_scores`. Next, it creates a dataframe of all potential binding sites for each protein in our dataset (example set = 64 proteins) with the corresponding binding site score, `prot_scores`. The function then iterates over all drugs and protein binding sites to populate the matrix with the highest tanimoto score. These scores represent how strongly each drug may potentially bind to each protein target. We then output the matrix to a tsv file, `matrix_file`.\n",
    "\n",
    "This function is parallelized, so setting the vairable `ncpus` will change the number of processors that are used for this function."
   ]
  },
  {
   "cell_type": "code",
   "execution_count": 3,
   "metadata": {},
   "outputs": [
    {
     "name": "stdout",
     "output_type": "stream",
     "text": [
      "Compiling compound scores...\n"
     ]
    },
    {
     "ename": "KeyboardInterrupt",
     "evalue": "",
     "output_type": "error",
     "traceback": [
      "\u001b[0;31m---------------------------------------------------------------------------\u001b[0m",
      "\u001b[0;31mKeyboardInterrupt\u001b[0m                         Traceback (most recent call last)",
      "\u001b[0;32m<ipython-input-3-d40aa88371a7>\u001b[0m in \u001b[0;36m<module>\u001b[0;34m\u001b[0m\n\u001b[1;32m      1\u001b[0m \u001b[0;31m# generate example cando interaction matrix (2,162 drugs x 64 proteins)\u001b[0m\u001b[0;34m\u001b[0m\u001b[0;34m\u001b[0m\u001b[0;34m\u001b[0m\u001b[0m\n\u001b[1;32m      2\u001b[0m cnd.generate_matrix(matrix_file=matrix_file, cmpd_scores=cmpd_scores,\n\u001b[0;32m----> 3\u001b[0;31m                     prot_scores=prot_scores, ncpus=ncpus)\n\u001b[0m",
      "\u001b[0;32m~/Documents/UB/samudrala_lab/CANDO/cando.py\u001b[0m in \u001b[0;36mgenerate_matrix\u001b[0;34m(cmpd_scores, prot_scores, matrix_file, ncpus)\u001b[0m\n\u001b[1;32m   2041\u001b[0m \u001b[0;34m\u001b[0m\u001b[0m\n\u001b[1;32m   2042\u001b[0m     \u001b[0mprint\u001b[0m\u001b[0;34m(\u001b[0m\u001b[0;34m\"Compiling compound scores...\"\u001b[0m\u001b[0;34m)\u001b[0m\u001b[0;34m\u001b[0m\u001b[0;34m\u001b[0m\u001b[0m\n\u001b[0;32m-> 2043\u001b[0;31m     \u001b[0mc_scores\u001b[0m \u001b[0;34m=\u001b[0m \u001b[0mpd\u001b[0m\u001b[0;34m.\u001b[0m\u001b[0mread_csv\u001b[0m\u001b[0;34m(\u001b[0m\u001b[0mcmpd_scores\u001b[0m\u001b[0;34m,\u001b[0m \u001b[0msep\u001b[0m\u001b[0;34m=\u001b[0m\u001b[0;34m'\\t'\u001b[0m\u001b[0;34m,\u001b[0m \u001b[0mindex_col\u001b[0m\u001b[0;34m=\u001b[0m\u001b[0;36m0\u001b[0m\u001b[0;34m)\u001b[0m\u001b[0;34m\u001b[0m\u001b[0;34m\u001b[0m\u001b[0m\n\u001b[0m\u001b[1;32m   2044\u001b[0m \u001b[0;34m\u001b[0m\u001b[0m\n\u001b[1;32m   2045\u001b[0m     \u001b[0mprint\u001b[0m\u001b[0;34m(\u001b[0m\u001b[0;34m\"Compiling binding site scores...\"\u001b[0m\u001b[0;34m)\u001b[0m\u001b[0;34m\u001b[0m\u001b[0;34m\u001b[0m\u001b[0m\n",
      "\u001b[0;32m/anaconda3/lib/python3.7/site-packages/pandas/io/parsers.py\u001b[0m in \u001b[0;36mparser_f\u001b[0;34m(filepath_or_buffer, sep, delimiter, header, names, index_col, usecols, squeeze, prefix, mangle_dupe_cols, dtype, engine, converters, true_values, false_values, skipinitialspace, skiprows, nrows, na_values, keep_default_na, na_filter, verbose, skip_blank_lines, parse_dates, infer_datetime_format, keep_date_col, date_parser, dayfirst, iterator, chunksize, compression, thousands, decimal, lineterminator, quotechar, quoting, escapechar, comment, encoding, dialect, tupleize_cols, error_bad_lines, warn_bad_lines, skipfooter, doublequote, delim_whitespace, low_memory, memory_map, float_precision)\u001b[0m\n\u001b[1;32m    676\u001b[0m                     skip_blank_lines=skip_blank_lines)\n\u001b[1;32m    677\u001b[0m \u001b[0;34m\u001b[0m\u001b[0m\n\u001b[0;32m--> 678\u001b[0;31m         \u001b[0;32mreturn\u001b[0m \u001b[0m_read\u001b[0m\u001b[0;34m(\u001b[0m\u001b[0mfilepath_or_buffer\u001b[0m\u001b[0;34m,\u001b[0m \u001b[0mkwds\u001b[0m\u001b[0;34m)\u001b[0m\u001b[0;34m\u001b[0m\u001b[0;34m\u001b[0m\u001b[0m\n\u001b[0m\u001b[1;32m    679\u001b[0m \u001b[0;34m\u001b[0m\u001b[0m\n\u001b[1;32m    680\u001b[0m     \u001b[0mparser_f\u001b[0m\u001b[0;34m.\u001b[0m\u001b[0m__name__\u001b[0m \u001b[0;34m=\u001b[0m \u001b[0mname\u001b[0m\u001b[0;34m\u001b[0m\u001b[0;34m\u001b[0m\u001b[0m\n",
      "\u001b[0;32m/anaconda3/lib/python3.7/site-packages/pandas/io/parsers.py\u001b[0m in \u001b[0;36m_read\u001b[0;34m(filepath_or_buffer, kwds)\u001b[0m\n\u001b[1;32m    444\u001b[0m \u001b[0;34m\u001b[0m\u001b[0m\n\u001b[1;32m    445\u001b[0m     \u001b[0;32mtry\u001b[0m\u001b[0;34m:\u001b[0m\u001b[0;34m\u001b[0m\u001b[0;34m\u001b[0m\u001b[0m\n\u001b[0;32m--> 446\u001b[0;31m         \u001b[0mdata\u001b[0m \u001b[0;34m=\u001b[0m \u001b[0mparser\u001b[0m\u001b[0;34m.\u001b[0m\u001b[0mread\u001b[0m\u001b[0;34m(\u001b[0m\u001b[0mnrows\u001b[0m\u001b[0;34m)\u001b[0m\u001b[0;34m\u001b[0m\u001b[0;34m\u001b[0m\u001b[0m\n\u001b[0m\u001b[1;32m    447\u001b[0m     \u001b[0;32mfinally\u001b[0m\u001b[0;34m:\u001b[0m\u001b[0;34m\u001b[0m\u001b[0;34m\u001b[0m\u001b[0m\n\u001b[1;32m    448\u001b[0m         \u001b[0mparser\u001b[0m\u001b[0;34m.\u001b[0m\u001b[0mclose\u001b[0m\u001b[0;34m(\u001b[0m\u001b[0;34m)\u001b[0m\u001b[0;34m\u001b[0m\u001b[0;34m\u001b[0m\u001b[0m\n",
      "\u001b[0;32m/anaconda3/lib/python3.7/site-packages/pandas/io/parsers.py\u001b[0m in \u001b[0;36mread\u001b[0;34m(self, nrows)\u001b[0m\n\u001b[1;32m   1034\u001b[0m                 \u001b[0;32mraise\u001b[0m \u001b[0mValueError\u001b[0m\u001b[0;34m(\u001b[0m\u001b[0;34m'skipfooter not supported for iteration'\u001b[0m\u001b[0;34m)\u001b[0m\u001b[0;34m\u001b[0m\u001b[0;34m\u001b[0m\u001b[0m\n\u001b[1;32m   1035\u001b[0m \u001b[0;34m\u001b[0m\u001b[0m\n\u001b[0;32m-> 1036\u001b[0;31m         \u001b[0mret\u001b[0m \u001b[0;34m=\u001b[0m \u001b[0mself\u001b[0m\u001b[0;34m.\u001b[0m\u001b[0m_engine\u001b[0m\u001b[0;34m.\u001b[0m\u001b[0mread\u001b[0m\u001b[0;34m(\u001b[0m\u001b[0mnrows\u001b[0m\u001b[0;34m)\u001b[0m\u001b[0;34m\u001b[0m\u001b[0;34m\u001b[0m\u001b[0m\n\u001b[0m\u001b[1;32m   1037\u001b[0m \u001b[0;34m\u001b[0m\u001b[0m\n\u001b[1;32m   1038\u001b[0m         \u001b[0;31m# May alter columns / col_dict\u001b[0m\u001b[0;34m\u001b[0m\u001b[0;34m\u001b[0m\u001b[0;34m\u001b[0m\u001b[0m\n",
      "\u001b[0;32m/anaconda3/lib/python3.7/site-packages/pandas/io/parsers.py\u001b[0m in \u001b[0;36mread\u001b[0;34m(self, nrows)\u001b[0m\n\u001b[1;32m   1846\u001b[0m     \u001b[0;32mdef\u001b[0m \u001b[0mread\u001b[0m\u001b[0;34m(\u001b[0m\u001b[0mself\u001b[0m\u001b[0;34m,\u001b[0m \u001b[0mnrows\u001b[0m\u001b[0;34m=\u001b[0m\u001b[0;32mNone\u001b[0m\u001b[0;34m)\u001b[0m\u001b[0;34m:\u001b[0m\u001b[0;34m\u001b[0m\u001b[0;34m\u001b[0m\u001b[0m\n\u001b[1;32m   1847\u001b[0m         \u001b[0;32mtry\u001b[0m\u001b[0;34m:\u001b[0m\u001b[0;34m\u001b[0m\u001b[0;34m\u001b[0m\u001b[0m\n\u001b[0;32m-> 1848\u001b[0;31m             \u001b[0mdata\u001b[0m \u001b[0;34m=\u001b[0m \u001b[0mself\u001b[0m\u001b[0;34m.\u001b[0m\u001b[0m_reader\u001b[0m\u001b[0;34m.\u001b[0m\u001b[0mread\u001b[0m\u001b[0;34m(\u001b[0m\u001b[0mnrows\u001b[0m\u001b[0;34m)\u001b[0m\u001b[0;34m\u001b[0m\u001b[0;34m\u001b[0m\u001b[0m\n\u001b[0m\u001b[1;32m   1849\u001b[0m         \u001b[0;32mexcept\u001b[0m \u001b[0mStopIteration\u001b[0m\u001b[0;34m:\u001b[0m\u001b[0;34m\u001b[0m\u001b[0;34m\u001b[0m\u001b[0m\n\u001b[1;32m   1850\u001b[0m             \u001b[0;32mif\u001b[0m \u001b[0mself\u001b[0m\u001b[0;34m.\u001b[0m\u001b[0m_first_chunk\u001b[0m\u001b[0;34m:\u001b[0m\u001b[0;34m\u001b[0m\u001b[0;34m\u001b[0m\u001b[0m\n",
      "\u001b[0;32mpandas/_libs/parsers.pyx\u001b[0m in \u001b[0;36mpandas._libs.parsers.TextReader.read\u001b[0;34m()\u001b[0m\n",
      "\u001b[0;32mpandas/_libs/parsers.pyx\u001b[0m in \u001b[0;36mpandas._libs.parsers.TextReader._read_low_memory\u001b[0;34m()\u001b[0m\n",
      "\u001b[0;32mpandas/_libs/parsers.pyx\u001b[0m in \u001b[0;36mpandas._libs.parsers.TextReader._read_rows\u001b[0;34m()\u001b[0m\n",
      "\u001b[0;32mpandas/_libs/parsers.pyx\u001b[0m in \u001b[0;36mpandas._libs.parsers.TextReader._convert_column_data\u001b[0;34m()\u001b[0m\n",
      "\u001b[0;32mpandas/_libs/parsers.pyx\u001b[0m in \u001b[0;36mpandas._libs.parsers.TextReader._convert_tokens\u001b[0;34m()\u001b[0m\n",
      "\u001b[0;32mpandas/_libs/parsers.pyx\u001b[0m in \u001b[0;36mpandas._libs.parsers.TextReader._convert_with_dtype\u001b[0;34m()\u001b[0m\n",
      "\u001b[0;32m/anaconda3/lib/python3.7/site-packages/pandas/core/dtypes/common.py\u001b[0m in \u001b[0;36mis_integer_dtype\u001b[0;34m(arr_or_dtype)\u001b[0m\n\u001b[1;32m    809\u001b[0m \u001b[0;34m\u001b[0m\u001b[0m\n\u001b[1;32m    810\u001b[0m \u001b[0;34m\u001b[0m\u001b[0m\n\u001b[0;32m--> 811\u001b[0;31m \u001b[0;32mdef\u001b[0m \u001b[0mis_integer_dtype\u001b[0m\u001b[0;34m(\u001b[0m\u001b[0marr_or_dtype\u001b[0m\u001b[0;34m)\u001b[0m\u001b[0;34m:\u001b[0m\u001b[0;34m\u001b[0m\u001b[0;34m\u001b[0m\u001b[0m\n\u001b[0m\u001b[1;32m    812\u001b[0m     \"\"\"\n\u001b[1;32m    813\u001b[0m     \u001b[0mCheck\u001b[0m \u001b[0mwhether\u001b[0m \u001b[0mthe\u001b[0m \u001b[0mprovided\u001b[0m \u001b[0marray\u001b[0m \u001b[0;32mor\u001b[0m \u001b[0mdtype\u001b[0m \u001b[0;32mis\u001b[0m \u001b[0mof\u001b[0m \u001b[0man\u001b[0m \u001b[0minteger\u001b[0m \u001b[0mdtype\u001b[0m\u001b[0;34m.\u001b[0m\u001b[0;34m\u001b[0m\u001b[0;34m\u001b[0m\u001b[0m\n",
      "\u001b[0;31mKeyboardInterrupt\u001b[0m: "
     ]
    }
   ],
   "source": [
    "# generate example cando interaction matrix (2,162 drugs x 64 proteins)\n",
    "cnd.generate_matrix(matrix_file=matrix_file, cmpd_scores=cmpd_scores,\n",
    "                    prot_scores=prot_scores, ncpus=ncpus)"
   ]
  },
  {
   "cell_type": "markdown",
   "metadata": {},
   "source": [
    "## Setting up CANDO object\n",
    "\n",
    "1. First argument, `cmpd_map`, is the compound mapping which specifies all of the compounds in the matrix by name and ID.\n",
    "\n",
    "2. Second argument, `ind_map`, is the indication mapping which specifies which diseases the drugs/compounds are approved to treat.\n",
    "\n",
    "3. `matrix` is the cando interaction matrix file which contains the names of the proteins and the scores to all compounds. **This file must be in tsv format.**\n",
    "\n",
    "4. `compute_distance` tells the object to compute the distances between the compounds in the platform based on the similarity of their interactions with all of the proteins. The distance metric used, `dist_metric`, can be cosine, rmsd, or many other common distance metrics (default is rmsd). This can be relatively time consuming depending on the amount of proteins, but with proteins on the order of hundreds it shouldn't take longer than a minute or two. If the computation does take a while (let's say >100,000 proteins), you can add a `save_rmsds='name_of_rmsd_file.tsv'` flag to save the computation. Then, simply use the `read_rmsds='name_of_rmsd_file.tsv'` to read in the already computed RMSDs to save time. "
   ]
  },
  {
   "cell_type": "code",
   "execution_count": 4,
   "metadata": {},
   "outputs": [
    {
     "name": "stdout",
     "output_type": "stream",
     "text": [
      "Reading signatures from matrix...\n",
      "Done reading signatures.\n",
      "\n",
      "Computing rmsd distances...\n",
      "Done computing rmsd distances.\n"
     ]
    }
   ],
   "source": [
    "# create object using example cando interaction matrix\n",
    "# compute distances using rmsd distance metric\n",
    "cando = cnd.CANDO(cmpd_map, ind_map, matrix=matrix_file, compute_distance=True, \n",
    "                  dist_metric=dist_metric, ncpus=ncpus)"
   ]
  },
  {
   "cell_type": "markdown",
   "metadata": {},
   "source": [
    "### Check data\n",
    "The imported data from `get_tutorial()` contains the CANDO v2.0 mappings with a sample of 64 proteins (for simplicity sake). It should contain the v2.0 set of 2,162 drugs/compounds and 2,178 indications. Let's check to make sure this is the case. The CANDO object should automagically assign each compound its signature of 64 proteins. Let's make sure the first compound in the mapping (bivalirudin) has 64 values in its signature and take a look at the values themselves. Depending on the scoring protocol used, the range/distribution of these values will vary.\n",
    "\n",
    "The `compute_distance` flag above tells the CANDO object to compute the RMSD between each compound on an all-vs-all basis. Let's check out the top5 most similar compounds to bivalirudin. The `Compound.similar` lists are part of the Compound objects and contain a tuple of every other compound object and its computed RMSD."
   ]
  },
  {
   "cell_type": "code",
   "execution_count": 5,
   "metadata": {},
   "outputs": [
    {
     "name": "stdout",
     "output_type": "stream",
     "text": [
      "compounds 2162\n",
      "indications 2178\n",
      "proteins 64\n",
      "\n",
      "bivalirudin 64\n",
      "[0.496, 0.482, 0.385, 0.061, 0.0, 0.11, 0.114, 0.375, 0.109, 0.102, 0.12, 0.418, 0.227, 0.0, 0.417, 0.146, 0.109, 0.129, 0.09, 0.099, 0.137, 0.109, 0.1, 0.109, 0.04, 0.133, 0.101, 0.19, 0.129, 0.077, 0.09, 0.571, 0.134, 0.202, 0.108, 0.408, 0.211, 0.0, 0.188, 0.432, 0.136, 0.116, 0.0, 0.0, 0.195, 0.535, 0.143, 0.232, 0.021, 0.056, 0.09, 0.102, 0.447, 0.114, 0.135, 0.01, 0.127, 0.188, 0.039, 0.096, 0.114, 0.214, 0.128, 0.405]\n",
      "\n",
      "semaglutide 0.0381114730101055\n",
      "tetracosactide 0.038863342303512696\n",
      "lixisenatide 0.04069090807539198\n",
      "corticorelin_ovine_triflutate 0.044826052692602765\n",
      "afamelanotide 0.04829838894828687\n"
     ]
    }
   ],
   "source": [
    "# print cando object stats\n",
    "print('compounds', len(cando.compounds))\n",
    "print('indications', len(cando.indications))\n",
    "print('proteins', len(cando.proteins))\n",
    "print('')\n",
    "\n",
    "# print bivalirudin signature\n",
    "c = cando.compounds[0]\n",
    "print(c.name, len(c.sig))\n",
    "print(c.sig)\n",
    "print('')\n",
    "\n",
    "# top5 most similar compounds to bivalirudin\n",
    "for s in c.similar[0:5]:\n",
    "    print(s[0].name, s[1])"
   ]
  },
  {
   "cell_type": "markdown",
   "metadata": {},
   "source": [
    "## Canbenchmark\n",
    "An important part of CANDO is benchmarking how well we can recapture drugs known to treat the same dieases within their respective `Compound.similar` lists. Currently, our benchmarking code calculates three metrics:\n",
    "1. Average indication accuracy (aia) - this value is the average of every individual indication accuracy\n",
    "2. Average pairwise accuracy (apa) - this value is the weighted average of each individual indication accuracy based on the number of drugs approved to treat it\n",
    "3. Indication coverage (ic) - this is the count of the number of non-zero indication accuracies\n",
    "\n",
    "The higher the metric scores for a given matrix/compound-protein scoring protocol, the more confidence we will have in predictions made using it. \n",
    "\n",
    "An accuracy is calculated for each indication that has at least 2 compounds associated. To do this, we hold out each compound and look for any of the other approved compounds within a certain cutoff of the `Compound.similar` list for the held-out compound. The cutoffs are predetermined to be top10, top25, top50, and top100. There are also percent cutoffs that vary based on the number of compounds in the platform. So, for Indication-A with three drugs approved (D1, D2, and D3), we would hold out D1 and look for *either* D2 or D3 in the top10, top25, top50, and top100 compounds to D1. This would be repeated for D2 and D3. So let's say D3 was recaptured at rank 5 for D1, D1 was recaptured at rank 12 for D2, and D1 was recaptured at rank 27 for D3. The top10 average indication accuracy would be (1+0+0) / 3 == 33%, whereas the top25 would be (1+1+0) / 3 == 66%, and the top50 would be 100%. \n",
    "\n",
    "### Canbenchmark - classic\n",
    "Below is how to run the benchmarking code. The first argument of `benchmark_classic()` is the extension to put on the output files (\"results_analysed_named\" and \"raw_results\"), and the second argument is the full name of the summary file which contains the metric scores at each cutoff (described above). "
   ]
  },
  {
   "cell_type": "code",
   "execution_count": 6,
   "metadata": {
    "scrolled": true
   },
   "outputs": [
    {
     "name": "stdout",
     "output_type": "stream",
     "text": [
      "\taia\n",
      "top10\t19.32\n",
      "top25\t26.24\n",
      "top50\t33.53\n",
      "top100\t42.92\n",
      "top2162\t100.00\n",
      "top1%\t24.74\n",
      "top5%\t44.05\n",
      "top10%\t55.89\n",
      "top50%\t87.19\n",
      "top100%\t100.00\n",
      "\n",
      "\n"
     ]
    }
   ],
   "source": [
    "cando.benchmark_classic('test', 'summary-test.tsv')"
   ]
  },
  {
   "cell_type": "markdown",
   "metadata": {},
   "source": [
    "Below is the printed summary file for the classic canbenchmark."
   ]
  },
  {
   "cell_type": "code",
   "execution_count": 7,
   "metadata": {},
   "outputs": [
    {
     "name": "stdout",
     "output_type": "stream",
     "text": [
      "\ttop10\ttop25\ttop50\ttop100\ttop2162\ttop1%\ttop5%\ttop10%\ttop50%\ttop100%\n",
      "aia\t19.318\t26.238\t33.532\t42.920\t99.999\t24.736\t44.050\t55.890\t87.192\t99.999\n",
      "apa\t33.506\t46.909\t59.057\t71.217\t100.000\t44.014\t72.344\t82.614\t97.154\t100.000\n",
      "ic\t779\t889\t976\t1083\t1570\t864\t1096\t1213\t1483\t1570\n"
     ]
    }
   ],
   "source": [
    "with open(\"summary-test.tsv\", 'r') as f:\n",
    "    for line in f:\n",
    "        print(line.strip('\\n'))"
   ]
  },
  {
   "cell_type": "markdown",
   "metadata": {},
   "source": [
    "### Canbenchmark - associated\n",
    "There are variations of the benchmarking code which may be of interest to some users. For example, not every compound in the mapping files are associated with a disease. This can decrease performance. We can have these compounds removed by running another benchmarking method called `benchmark_associated()`, which will automatically filter out these non-associated compounds. "
   ]
  },
  {
   "cell_type": "code",
   "execution_count": 8,
   "metadata": {},
   "outputs": [
    {
     "name": "stdout",
     "output_type": "stream",
     "text": [
      "Making CANDO copy with only benchmarking-associated compounds\n",
      "\taia\n",
      "top10\t22.02\n",
      "top25\t30.79\n",
      "top50\t38.96\n",
      "top100\t49.05\n",
      "top1403\t100.00\n",
      "top1%\t24.48\n",
      "top5%\t43.50\n",
      "top10%\t54.72\n",
      "top50%\t86.05\n",
      "top100%\t100.00\n",
      "\n",
      "\n"
     ]
    }
   ],
   "source": [
    "cando.benchmark_associated('test_associated', 'summary-test_associated.tsv')"
   ]
  },
  {
   "cell_type": "markdown",
   "metadata": {},
   "source": [
    "Below is the printed summary file for the associated canbenchmark."
   ]
  },
  {
   "cell_type": "code",
   "execution_count": 9,
   "metadata": {},
   "outputs": [
    {
     "name": "stdout",
     "output_type": "stream",
     "text": [
      "\ttop10\ttop25\ttop50\ttop100\ttop1403\ttop1%\ttop5%\ttop10%\ttop50%\ttop100%\n",
      "aia\t22.023\t30.792\t38.963\t49.045\t99.999\t24.481\t43.502\t54.717\t86.049\t99.999\n",
      "apa\t38.815\t54.201\t66.465\t77.012\t100.000\t43.417\t71.714\t81.791\t96.828\t100.000\n",
      "ic\t819\t950\t1040\t1149\t1570\t865\t1088\t1203\t1478\t1570\n"
     ]
    }
   ],
   "source": [
    "with open(\"summary-test_associated.tsv\", 'r') as f:\n",
    "    for line in f:\n",
    "        print(line.strip('\\n'))"
   ]
  },
  {
   "cell_type": "markdown",
   "metadata": {},
   "source": [
    "### Canbenchmark - continuous\n",
    "Yet another variation of our benchmarking is `benchmark_continuous()`. This method identifies percentiles for the compound distances which define our cutoffs. Rather than top10 compounds, we can define an RMSD cutoffs that will not punish a compound that may fall at rank 11, but is still very similar to the hold-out compound. These RMSD cutoffs are determined empirically. "
   ]
  },
  {
   "cell_type": "code",
   "execution_count": 16,
   "metadata": {
    "scrolled": true
   },
   "outputs": [
    {
     "name": "stdout",
     "output_type": "stream",
     "text": [
      "\taia\n",
      "0.1%\t10.37\n",
      "0.5%\t16.34\n",
      "1%\t19.72\n",
      "5%\t34.31\n",
      "10%\t42.77\n",
      "20%\t54.76\n",
      "33%\t66.35\n",
      "50%\t77.49\n",
      "100%\t100.00\n",
      "\n",
      "\n"
     ]
    }
   ],
   "source": [
    "cando.benchmark_continuous('test_continuous', 'summary-test_continuous.tsv')"
   ]
  },
  {
   "cell_type": "markdown",
   "metadata": {},
   "source": [
    "Below is the printed summary file for the continuous canbenchmark."
   ]
  },
  {
   "cell_type": "code",
   "execution_count": 17,
   "metadata": {},
   "outputs": [
    {
     "name": "stdout",
     "output_type": "stream",
     "text": [
      "\t0.1%\t0.5%\t1%\t5%\t10%\t20%\t33%\t50%\t100%\n",
      "aia\t10.365\t16.339\t19.722\t34.310\t42.769\t54.756\t66.353\t77.493\t99.999\n",
      "apa\t15.391\t26.760\t33.053\t53.289\t61.792\t71.962\t80.122\t87.221\t100.000\n",
      "ic\t562\t689\t738\t931\t1026\t1154\t1278\t1387\t1570\n"
     ]
    }
   ],
   "source": [
    "with open('summary-test_continuous.tsv', 'r') as f:\n",
    "    for line in f:\n",
    "        print(line.strip('\\n'))"
   ]
  },
  {
   "cell_type": "markdown",
   "metadata": {},
   "source": [
    "## Canpredict\n",
    "\n",
    "An important part of CANDO is generating putative drug candidates for a specific disease and predicting indications for which added or current drugs in our library can be therapetuic. We can do this with the canpredict functions.\n",
    "\n",
    "### Canpredict - compounds\n",
    "Generating putative drug candidates for a specific disease is one way we may want to use the predictive power of our platform. For this, we use the `canpredict_compounds()` function, which basically uses a consensus method to rank putative compounds based on how many times they show up as similar to drugs approved to treat the disease within some cutoff. The default cutoff is 10 (the most stringent from benchmarking), but this can be varied. In its current implementation, `canpredict_compounds()` ranks compounds based on the consensus count, but this can be changed in the future to prioritize distance as well. \n",
    "\n",
    "Let's make predictions for breast cancer, or \"Breast Neoplasms\" according to the CTD mapping. This has a MeSH ID of MESH:D001943, which is the input for `canpredict_compounds()`. This list is very long due to the large amount of drugs approved to treat breast cancer, so we should look at only the top10 (default) by setting `n=10`. We will also only print the first 10 compounds (`topN=10`)."
   ]
  },
  {
   "cell_type": "code",
   "execution_count": 11,
   "metadata": {},
   "outputs": [
    {
     "name": "stdout",
     "output_type": "stream",
     "text": [
      "112 compounds found for MESH:D001943 --> Breast Neoplasms\n",
      "Generating top 10 compound predictions...\n",
      "\n",
      "rank\tscore\tid\tname\n",
      "1\t9\t1364\tomacetaxine_mepesuccinate\n",
      "2\t8\t182\tetonogestrel\n",
      "3\t7\t450\tnizatidine\n",
      "4\t7\t1460\tsimeprevir\n",
      "5\t6\t1365\tnilotinib\n",
      "6\t6\t1536\tcabazitaxel\n",
      "7\t6\t478\tamodiaquine\n",
      "8\t6\t550\tfludrocortisone\n",
      "9\t5\t397\tlercanidipine\n",
      "10\t5\t2061\tvenetoclax\n",
      "\n",
      "\n"
     ]
    }
   ],
   "source": [
    "cando.canpredict_compounds(\"MESH:D001943\", n=10, topX=10)"
   ]
  },
  {
   "cell_type": "markdown",
   "metadata": {},
   "source": [
    "Perhaps using the top10 compounds is not encompassing enough. Let's change it to top25 (n=25) and see if the predictions change. We will still print the first 10 compounds."
   ]
  },
  {
   "cell_type": "code",
   "execution_count": 12,
   "metadata": {},
   "outputs": [
    {
     "name": "stdout",
     "output_type": "stream",
     "text": [
      "112 compounds found for MESH:D001943 --> Breast Neoplasms\n",
      "Generating top 10 compound predictions...\n",
      "\n",
      "rank\tscore\tid\tname\n",
      "1\t14\t182\tetonogestrel\n",
      "2\t13\t1896\tosimertinib\n",
      "3\t13\t397\tlercanidipine\n",
      "4\t13\t447\tvoriconazole\n",
      "5\t12\t1364\tomacetaxine_mepesuccinate\n",
      "6\t11\t682\tethynodiol_diacetate\n",
      "7\t11\t1880\tparitaprevir\n",
      "8\t11\t1546\thalcinonide\n",
      "9\t11\t2061\tvenetoclax\n",
      "10\t11\t478\tamodiaquine\n",
      "\n",
      "\n"
     ]
    }
   ],
   "source": [
    "cando.canpredict_compounds(\"MESH:D001943\", n=25, topX=10)"
   ]
  },
  {
   "cell_type": "markdown",
   "metadata": {},
   "source": [
    "Now let's print the first 25 compounds predicted for 'Breast Neoplasms' using the top25 most similar compounds. We will also show the compounds that are already approved for 'Breast Neoplasms' (removed by default)."
   ]
  },
  {
   "cell_type": "code",
   "execution_count": 13,
   "metadata": {},
   "outputs": [
    {
     "name": "stdout",
     "output_type": "stream",
     "text": [
      "112 compounds found for MESH:D001943 --> Breast Neoplasms\n",
      "Generating top 25 compound predictions...\n",
      "\n",
      "rank\tscore\tapproved\tid\tname\n",
      "1\t14\tFalse\t\t182\tetonogestrel\n",
      "2\t13\tFalse\t\t1896\tosimertinib\n",
      "3\t13\tFalse\t\t397\tlercanidipine\n",
      "4\t13\tFalse\t\t447\tvoriconazole\n",
      "5\t12\tFalse\t\t1364\tomacetaxine_mepesuccinate\n",
      "6\t11\tFalse\t\t682\tethynodiol_diacetate\n",
      "7\t11\tFalse\t\t1880\tparitaprevir\n",
      "8\t11\tTrue\t\t468\tmedroxyprogesterone_acetate\n",
      "9\t11\tTrue\t\t236\tmegestrol_acetate\n",
      "10\t11\tFalse\t\t1546\thalcinonide\n",
      "11\t11\tFalse\t\t2061\tvenetoclax\n",
      "12\t11\tFalse\t\t478\tamodiaquine\n",
      "13\t10\tFalse\t\t562\tnicergoline\n",
      "14\t10\tFalse\t\t1536\tcabazitaxel\n",
      "15\t10\tFalse\t\t1393\ttrabectedin\n",
      "16\t10\tFalse\t\t162\ttopiramate\n",
      "17\t10\tTrue\t\t1736\ttibolone\n",
      "18\t10\tFalse\t\t519\testrone\n",
      "19\t10\tFalse\t\t1279\tprasterone\n",
      "20\t10\tFalse\t\t488\ttestosterone\n",
      "21\t10\tFalse\t\t1641\tbedaquiline\n",
      "22\t10\tTrue\t\t810\tcarboplatin\n",
      "23\t9\tFalse\t\t1139\tvecuronium\n",
      "24\t9\tFalse\t\t450\tnizatidine\n",
      "25\t9\tFalse\t\t895\tfluocinonide\n",
      "\n",
      "\n"
     ]
    }
   ],
   "source": [
    "cando.canpredict_compounds(\"MESH:D001943\", n=25, topX=25, keep_approved=True)"
   ]
  },
  {
   "cell_type": "markdown",
   "metadata": {},
   "source": [
    "Sometimes there are no compounds associated with a disease, which makes canpredict impossible if considering interactomic homology to approved drugs. In these cases, `ind_id=None` and `sum_scores=True` can be set to simply sum the interaction scores within the matrix and output those with the greatest totals. These parameters can be particularly useful when considering matrices with proteins from pathogens or in combination with the `protein_subset` flag (discussed below). "
   ]
  },
  {
   "cell_type": "code",
   "execution_count": 15,
   "metadata": {},
   "outputs": [
    {
     "name": "stdout",
     "output_type": "stream",
     "text": [
      "Finding compounds with greatest summed scores in ./examples/example-matrix.tsv...\n",
      "Generating top 50 compound predictions...\n",
      "\n",
      "rank\tscore\tid\tname\n",
      "1\t19.46699999999999\t25\tadenosine_monophosphate\n",
      "2\t17.899\t50\tnadh\n",
      "3\t17.508999999999993\t504\tadenosine\n",
      "4\t17.508999999999993\t85\tvidarabine\n",
      "5\t16.704\t1306\tflavin_adenine_dinucleotide\n",
      "6\t15.976\t1334\tlactose\n",
      "7\t15.225\t2131\tinosine_pranobex\n",
      "8\t15.225\t1331\tinosine\n",
      "9\t14.905000000000005\t13\tademetionine\n",
      "10\t14.759\t2022\tarbutin\n",
      "11\t14.256999999999996\t919\tfludarabine\n",
      "12\t14.240999999999994\t838\tcytarabine\n",
      "13\t14.187000000000001\t1602\thyaluronic_acid\n",
      "14\t14.047999999999998\t1108\tnelarabine\n",
      "15\t13.875999999999998\t1950\tsodium_ferric_gluconate_complex\n",
      "16\t13.875999999999998\t1795\tiron_saccharate\n",
      "17\t13.875999999999998\t1301\tsucrose\n",
      "18\t13.847000000000001\t1336\tgluconolactone\n",
      "19\t13.616999999999997\t781\tazacitidine\n",
      "20\t13.411000000000003\t1410\tmipomersen\n",
      "21\t13.195999999999996\t2036\tpolydatin\n",
      "22\t13.190999999999997\t1013\tkanamycin\n",
      "23\t13.129\t446\tlactulose\n",
      "24\t13.102\t1440\tregadenoson\n",
      "25\t12.928\t495\tclofarabine\n",
      "26\t12.823999999999995\t353\tamikacin\n",
      "27\t12.718999999999998\t670\tribavirin\n",
      "28\t12.700999999999999\t927\tstreptomycin\n",
      "29\t12.683\t132\tcladribine\n",
      "30\t12.4\t1315\tribostamycin\n",
      "31\t12.329\t1099\tdecitabine\n",
      "32\t12.3\t1487\tethanolamine_oleate\n",
      "33\t12.3\t1329\toleic_acid\n",
      "34\t12.3\t1321\tpalmitic_acid\n",
      "35\t12.3\t1319\tdoconexent\n",
      "36\t12.3\t1308\tstearic_acid\n",
      "37\t12.3\t1303\tlauric_acid\n",
      "38\t12.3\t52\ticosapent\n",
      "39\t12.3\t47\tdihomo-gamma-linolenic_acid\n",
      "40\t12.3\t26\talpha-linolenic_acid\n",
      "41\t12.293\t1117\tglucosamine\n",
      "42\t12.282999999999992\t419\tpentostatin\n",
      "43\t12.234999999999998\t502\tinulin\n",
      "44\t12.194999999999999\t1191\tparomomycin\n",
      "45\t12.167000000000002\t2062\tthiocolchicoside\n",
      "46\t12.108000000000002\t2130\tesculin\n",
      "47\t12.097000000000003\t1558\tmonoctanoin\n",
      "48\t12.080000000000002\t1102\ttelbivudine\n",
      "49\t12.028999999999998\t1620\ttesamorelin\n",
      "50\t11.922000000000004\t1449\taviptadil\n",
      "\n",
      "\n"
     ]
    }
   ],
   "source": [
    "cando.canpredict_compounds(ind_id=None, topX=50, sum_scores=True)"
   ]
  },
  {
   "cell_type": "markdown",
   "metadata": {},
   "source": [
    "### Canpredict - indications\n",
    "\n",
    "\n",
    "Below we print the first 10 indications predicted for Paromomycin using the top10 most similar compounds. Again, this tallies how many times specific diseases show up as associated with the top10 most similar compounds to paromomycin. "
   ]
  },
  {
   "cell_type": "code",
   "execution_count": 22,
   "metadata": {},
   "outputs": [
    {
     "name": "stdout",
     "output_type": "stream",
     "text": [
      "Using CANDO compound pyridoxal_phosphate\n",
      "Compound has id 10 and index 10\n",
      "Comparing signature to all CANDO compound signatures...\n",
      "Generating top 10 indication predictions...\n",
      "\n",
      "rank\tscore\tmesh_id    \tindication\n",
      "1\t1\tMESH:D004830\tEpilepsy, Tonic-Clonic\n",
      "2\t1\tMESH:D012640\tSeizures\n",
      "3\t1\tMESH:D013226\tStatus Epilepticus\n",
      "4\t1\tMESH:D017180\tTachycardia, Ventricular\n",
      "5\t1\tMESH:D001249\tAsthma\n",
      "6\t1\tMESH:D029424\tPulmonary Disease, Chronic Obstructive\n",
      "7\t1\tMESH:D015451\tLeukemia, Lymphocytic, Chronic, B-Cell\n",
      "8\t1\tMESH:D007945\tLeukemia, Lymphoid\n",
      "9\t1\tMESH:D016403\tLymphoma, Large B-Cell, Diffuse\n",
      "10\t1\tMESH:D020522\tLymphoma, Mantle-Cell\n",
      "\n"
     ]
    }
   ],
   "source": [
    "cando.canpredict_indications(cando_cmpd=cando.compounds[10], n=10, topN=10)"
   ]
  },
  {
   "cell_type": "markdown",
   "metadata": {},
   "source": [
    "### Similar compounds\n",
    "`similar_compounds()` prints the first `n` most similar compounds for a given compound. This, like `canpredict_indications()` can be used with cando compounds, `cando_cmpd`, or novel compounds with a signature file (we will explore this later).\n",
    "\n",
    "Below we print the first 10 most similar compounds to Paromomycin."
   ]
  },
  {
   "cell_type": "code",
   "execution_count": 23,
   "metadata": {},
   "outputs": [
    {
     "name": "stdout",
     "output_type": "stream",
     "text": [
      "Using CANDO compound pyridoxal_phosphate\n",
      "Compound has id 10 and index 10\n",
      "Comparing signature to all CANDO compound signatures...\n",
      "Generating 10 most similar compound predictions...\n",
      "\n",
      "rank\tdist\tid\tname\n",
      "1\t0.035\t524\tmetaxalone\n",
      "2\t0.039\t1721\ttedizolid_phosphate\n",
      "3\t0.042\t1124\tfosphenytoin\n",
      "4\t0.042\t736\temtricitabine\n",
      "5\t0.045\t683\tenprofylline\n",
      "6\t0.045\t627\tclavulanate\n",
      "7\t0.046\t1726\tibrutinib\n",
      "8\t0.046\t1512\tfospropofol\n",
      "9\t0.046\t946\tcapecitabine\n",
      "10\t0.047\t896\tabacavir\n",
      "\n",
      "\n"
     ]
    }
   ],
   "source": [
    "cando.similar_compounds(cando_cmpd=cando.compounds[10], n=10)"
   ]
  },
  {
   "cell_type": "markdown",
   "metadata": {},
   "source": [
    "## Machine learning with CANDO\n",
    "The \"proteomic vectors\" within CANDO lend themselves well to machine learning to perhaps learn more complex relationships between the proteins within the vector and their impacts on the treatment of diseases. CANDO has built-in ML algorithms that allow for two main functionalities:\n",
    "1. Benchmark the platform using a hold-one-out protocol very similar to canbenchmark\n",
    "2. Make predictions for novel or non-associated compounds that may be therapeutic for a given disease\n",
    "\n",
    "The ML module currently supports 4 algorithms: support vector machines (SVMs), 1-class SVMs, random forests, and logistic regression. The models are trained on drugs approved for the disease (positive classes) and an equal number of randomly selected \"neutral samples\", which are drugs/compounds not approved for the disease (negative samples). Random seeds may be set to ensure the same compounds are used in training. \n",
    "\n",
    "### ML - benchmark\n",
    "We have the option to benchmark the platform with an ML algorithm - this module outputs files very similar to canbenchmark. For this tutorial, we will skip this function as it requires a great deal of time to complete (training a separate model for EVERY drug-disease association, basically). The command to do so with an SVM is below, feel free to run it! The `'out='` flag defines the name of the output files. Again, only diseases with 2+ compounds associated are benchmarked. \n",
    "\n",
    "`cnd.ml(method='smv', benchmark=True, seed=50, out='test_smv')`\n",
    "\n",
    "### ML - predict\n",
    "We can also use this module to predict if a certain compound may be therapeutic for a given disease. We can use the \n",
    "`'predict='` flag to specify a list of compounds that we wish to predict with the classifier. Let's use three drugs, imatinib, buprenorphine, and lisdexamfetamine, and see if they are predicted to be anti-inflammatory using a random forest classifier. "
   ]
  },
  {
   "cell_type": "code",
   "execution_count": 27,
   "metadata": {},
   "outputs": [
    {
     "name": "stdout",
     "output_type": "stream",
     "text": [
      "Inflammation\n",
      "Indication: Inflammation\n",
      "Leave-one-out cross validation: TP=64, FN=54, Acc=54.24\n",
      "\tCompound\tClass\n",
      "\timatinib\t0\n",
      "\tbuprenorphine\t1\n",
      "\tlisdexamfetamine\t0\n"
     ]
    }
   ],
   "source": [
    "inflm = cando.get_indication('MESH:D007249')\n",
    "\n",
    "imat = cando.get_compound(483)\n",
    "bup = cando.get_compound(775)\n",
    "lamf = cando.get_compound(1094)\n",
    "\n",
    "cando.ml(method='rf', effect=inflm, benchmark=False, seed=50, predict=[imat, bup, lamf])"
   ]
  },
  {
   "cell_type": "markdown",
   "metadata": {},
   "source": [
    "## Custom protein subsets and signatures\n",
    "It may be useful for some users to probe compound-protein interaction similarity, but only in the context of a few particular proteins (e.g. set of kinase inhibitors). Instead of generating a new matrix with all of these proteins and their corresponding interaction values, which can begin to take up a lot of storage if done multiple times, the `'protein_set='` flag can be specified during the instantiation of the CANDO object. This flag contains the path to the protein subset the user wishes to use, which is simply a list of UniProt protein IDs. The CANDO object will automatically check for each ID if it either simply matches any UniProt IDs within the matrix or if that UniProt ID is associated with any PDB chains within the matrix (based on a mapping from the SIFTs project). If there are matches, the CANDO object will now contain Compound objects with only those protein interaction values in their signatures. Below is an example with encompanying benchmark and ML examples. Let's check to see if some of the 20 UniProt IDs in the example list had correspnding PDBs. "
   ]
  },
  {
   "cell_type": "code",
   "execution_count": 29,
   "metadata": {},
   "outputs": [
    {
     "name": "stdout",
     "output_type": "stream",
     "text": [
      "Reading signatures from matrix...\n",
      "Editing signatures according to proteins in ./examples/example-uniprot_set...\n",
      "Done reading signatures.\n",
      "\n",
      "Computing rmsd distances...\n",
      "Done computing rmsd distances.\n",
      "Number of proteins in new signature = 20\n"
     ]
    }
   ],
   "source": [
    "cando_subset = cnd.CANDO(cmpd_map, ind_map, matrix=matrix_file, compute_distance=True, protein_set=protein_set,\n",
    "                  dist_metric=dist_metric, ncpus=ncpus)\n",
    "\n",
    "print(\"Number of proteins in new signature =\", len(cando_subset.proteins))"
   ]
  },
  {
   "cell_type": "markdown",
   "metadata": {},
   "source": [
    "The signature was successfully edited to 20 proteins. Note: this does not nececessarily mean the each UniProt ID had a corresponding PDB match -- multiple PDB chains can be associated with a given UniProt ID. \n",
    "\n",
    "We can also repeat all benchmarks and predictive algorithms with the new signatures. Below is the default benchmarking results with the new signatures. "
   ]
  },
  {
   "cell_type": "code",
   "execution_count": 30,
   "metadata": {},
   "outputs": [
    {
     "name": "stdout",
     "output_type": "stream",
     "text": [
      "\taia\n",
      "top10\t16.82\n",
      "top25\t24.28\n",
      "top50\t31.07\n",
      "top100\t40.75\n",
      "top2162\t100.00\n",
      "top1%\t22.55\n",
      "top5%\t42.04\n",
      "top10%\t53.83\n",
      "top50%\t87.69\n",
      "top100%\t100.00\n",
      "\n",
      "\n"
     ]
    }
   ],
   "source": [
    "cando_subset.benchmark_classic('test_subset', 'summary-test_subset')"
   ]
  },
  {
   "cell_type": "markdown",
   "metadata": {},
   "source": [
    "Let's repeat the ML code from above, but this time let's use an SVM. "
   ]
  },
  {
   "cell_type": "code",
   "execution_count": 31,
   "metadata": {},
   "outputs": [
    {
     "name": "stdout",
     "output_type": "stream",
     "text": [
      "Indication: Inflammation\n",
      "Leave-one-out cross validation: TP=104, FN=14, Acc=88.14\n",
      "\tCompound\tClass\n",
      "\timatinib\t1\n",
      "\tbuprenorphine\t1\n",
      "\tlisdexamfetamine\t0\n"
     ]
    }
   ],
   "source": [
    "inflm = cando_subset.get_indication('MESH:D007249')\n",
    "\n",
    "imat = cando_subset.get_compound(483)\n",
    "bup = cando_subset.get_compound(775)\n",
    "lamf = cando_subset.get_compound(1094)\n",
    "\n",
    "cando_subset.ml(method='svm', effect=inflm, benchmark=False, seed=50, predict=[imat, bup, lamf])"
   ]
  },
  {
   "cell_type": "markdown",
   "metadata": {},
   "source": [
    "## Generate proteomic signatures for new compounds \n",
    "\n",
    "The CANDO platform contains an extensive library of approved drugs (2,162) and other compounds (additional 6,590) from DrugBank. However, if you wish to predict indications or similar drugs for a compound that is not present in our library, we make it possible with the following series of functions.\n",
    "\n",
    "First, You must have the compound properly formatted in PDB file format. There are many programs that provided conversion among many chemical file formats if you require.\n",
    "\n",
    "Next, you can run the `generate_fp()` function. This will populate a tsv file with tanimoto similarity scores (jaccard index) of the provided compound to all binding site ligands in our database. These values will be used for the generation of the drug-proteome signature. The fingerprint used for tanimoto score will be defined by the input for variable 'fp'. The default for this is \"rd_ecfp4\". The tsv file will be saved with the name you provide in cmpd_id (e.g. cmpd_id=7561; \"7561.tsv\") and it will be saved in the directory provided as the out_path along with the fingerprint defined (e.g. out_path=\"examples\"; \"examples/rd_ecfp4/7561.tsv\")."
   ]
  },
  {
   "cell_type": "code",
   "execution_count": 33,
   "metadata": {},
   "outputs": [
    {
     "name": "stderr",
     "output_type": "stream",
     "text": [
      "Downloading file: /Users/williammangione/Documents/UB/samudrala_lab/CANDO/v2_0/ligands_fps/rd_ecfp4.tsv [540.0 KB] [] [ETA:   0:00:31] "
     ]
    },
    {
     "name": "stdout",
     "output_type": "stream",
     "text": [
      "Downloading ligand fingerprints for rd_ecfp4...\n"
     ]
    },
    {
     "name": "stderr",
     "output_type": "stream",
     "text": [
      "Downloading file: /Users/williammangione/Documents/UB/samudrala_lab/CANDO/v2_0/ligands_fps/rd_ecfp4.tsv [164.5 MB] [] [Time:  0:01:08] \n"
     ]
    },
    {
     "name": "stdout",
     "output_type": "stream",
     "text": [
      "Ligand fingerprints downloaded.\n",
      "Generating rd_ecfp4 fingerprints and scores...\n",
      "Calculating tanimoto scores for compound 8100 against all binding site ligands...\n",
      "Tanimoto scores written to examples/rd_ecfp4/8100_scores.tsv\n",
      "\n",
      "Compiling compound scores...\n",
      "Compiling binding site scores...\n",
      "Generating interaction signature...\n",
      "8100\n",
      "Signature written to 8100_signature.tsv.\n",
      "Signature generation took 0 seconds to finish.\n"
     ]
    }
   ],
   "source": [
    "cnd.generate_scores(fp=\"rd_ecfp4\",\n",
    "        cmpd_pdb=\"examples/8100.pdb\", out_path=\"examples\", ncpus=ncpus)\n",
    "cnd.generate_signature(cmpd_scores=\"examples/rd_ecfp4/8100_scores.tsv\",\n",
    "        prot_scores=prot_scores, ncpus=ncpus)"
   ]
  },
  {
   "cell_type": "code",
   "execution_count": 34,
   "metadata": {},
   "outputs": [
    {
     "name": "stdout",
     "output_type": "stream",
     "text": [
      "New compound is scy-635\n",
      "New compound has id 2162 and index 2162\n",
      "Comparing signature to all CANDO compound signatures...\n",
      "Generating 10 most similar compound predictions...\n",
      "\n",
      "rank\tdist\tid\tname\n",
      "1\t0.021\t2154\tglecaprevir\n",
      "2\t0.022\t2064\tasunaprevir\n",
      "3\t0.023\t1741\tedoxaban\n",
      "4\t0.023\t2102\tvoxilaprevir\n",
      "5\t0.023\t1454\tudenafil\n",
      "6\t0.023\t1129\tcefazolin\n",
      "7\t0.024\t1460\tsimeprevir\n",
      "8\t0.024\t1712\tledipasvir\n",
      "9\t0.024\t1132\tcefotetan\n",
      "10\t0.024\t1864\tfimasartan\n",
      "\n",
      "\n"
     ]
    }
   ],
   "source": [
    "cando.similar_compounds(new_sig=\"8100_signature.tsv\",\n",
    "        new_name='scy-635', n=10)"
   ]
  },
  {
   "cell_type": "code",
   "execution_count": 35,
   "metadata": {},
   "outputs": [
    {
     "name": "stdout",
     "output_type": "stream",
     "text": [
      "New compound is scy-635\n",
      "New compound has id 2162 and index 2162\n",
      "Comparing signature to all CANDO compound signatures...\n",
      "Generating top 10 indication predictions...\n",
      "\n",
      "rank\tscore\tmesh_id    \tindication\n",
      "1\t2\tMESH:D010019\tOsteomyelitis\n",
      "2\t2\tMESH:D006526\tHepatitis C\n",
      "3\t2\tMESH:D019698\tHepatitis C, Chronic\n",
      "4\t1\tMESH:D054556\tVenous Thromboembolism\n",
      "5\t1\tMESH:D007172\tErectile Dysfunction\n",
      "6\t1\tMESH:D016470\tBacteremia\n",
      "7\t1\tMESH:D001437\tBacteriuria\n",
      "8\t1\tMESH:D002295\tCarcinoma, Transitional Cell\n",
      "9\t1\tMESH:D004697\tEndocarditis, Bacterial\n",
      "10\t1\tMESH:D004927\tEscherichia coli Infections\n",
      "\n"
     ]
    }
   ],
   "source": [
    "cando.canpredict_indications(new_sig=\"8100_signature.tsv\",\n",
    "        new_name='scy-635', n=10, topN=10)"
   ]
  },
  {
   "cell_type": "code",
   "execution_count": null,
   "metadata": {},
   "outputs": [],
   "source": []
  }
 ],
 "metadata": {
  "kernelspec": {
   "display_name": "Python 3",
   "language": "python",
   "name": "python3"
  },
  "language_info": {
   "codemirror_mode": {
    "name": "ipython",
    "version": 3
   },
   "file_extension": ".py",
   "mimetype": "text/x-python",
   "name": "python",
   "nbconvert_exporter": "python",
   "pygments_lexer": "ipython3",
   "version": "3.7.1"
  }
 },
 "nbformat": 4,
 "nbformat_minor": 2
}
