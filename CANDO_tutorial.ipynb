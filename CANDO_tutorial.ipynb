{
 "cells": [
  {
   "cell_type": "markdown",
   "metadata": {},
   "source": [
    "# CANDO Tutorial\n",
    "\n",
    "This notebook will walk you through how to generate a CANDO matrix, set up a CANDO object, probe the data, benchmark the platform, and make therapeutic predictions. \n",
    "\n",
    "## Introduction"
   ]
  },
  {
   "cell_type": "markdown",
   "metadata": {},
   "source": [
    "## Getting Started\n",
    "\n",
    "We begin by importing the cando package. Once cando has been imported we can pull the example mappings and matrix data for this tutorial, `cnd.get_tutorial()`. Lastly, for our set up, we define important variables that will be used throughout this tutorial. These variables will be explained as each becomes important for different functions."
   ]
  },
  {
   "cell_type": "code",
   "execution_count": 1,
   "metadata": {},
   "outputs": [
    {
     "name": "stdout",
     "output_type": "stream",
     "text": [
      "Downloading data for tutorial...\n"
     ]
    },
    {
     "name": "stderr",
     "output_type": "stream",
     "text": [
      "v2_0/mappings/drugbank-approved.tsv [ 36.7 KB] [############] [Time:  0:00:00] \n",
      "v2_0/mappings/ctd_2_drugbank.tsv [961.3 KB] [###############] [Time:  0:00:06] \n",
      "v2_0/cmpds/scores/drugbank-approved-rd_ecfp4.tsv.gz [399.4 MB] [] [Time:  0:22:29] \n"
     ]
    },
    {
     "name": "stdout",
     "output_type": "stream",
     "text": [
      "All data for tutorial downloaded.\n"
     ]
    }
   ],
   "source": [
    "import sys, os\n",
    "# import the cando package\n",
    "import cando as cnd\n",
    "\n",
    "# Pull data for this entire tutorial\n",
    "cnd.get_tutorial()\n",
    "\n",
    "# Define variables for matrix generation and CANDO object creation\n",
    "matrix_file='./example-matrix.tsv'\n",
    "cmpd_map='../v2_0/mappings/drugbank-approved.tsv'\n",
    "ind_map='../v2_0/mappings/ctd_2_drugbank.tsv'\n",
    "cmpd_scores='../v2_0/cmpds/scores/drugbank-approved-rd_ecfp4.tsv' # ~400MB, may take a while\n",
    "prot_scores='./example-prots_scores.tsv'\n",
    "protein_set=\"./example-uniprot_set\"\n",
    "dist_metric='rmsd'\n",
    "ncpus=3\n",
    "\n",
    "os.chdir(\"./examples\")"
   ]
  },
  {
   "cell_type": "markdown",
   "metadata": {},
   "source": [
    "## Generating interaction matrix\n",
    "\n",
    "<span style=\"color:red\">**This step is optional**</span> - The example interaction matrix, `matrix_file`, has already been downloaded via `get_tutorial()`. This function may take a few minutes.\n",
    "\n",
    "In this step we will generate a matrix of 2,162 drugs by 64 proteins, populated with the corresponding interaction score betwen each drug and protein. The final matrix will have drugs as the columns (indexed according to the compound mapping file), and proteins as the indices (indexed by PDB and chain ID).\n",
    "\n",
    "The function `generate_matrix()` first creates a dataframe for all tanimoto scores comparing each drug in our dataset (2,162) to every potential binding site ligand from the PDB, `cmpd_scores`. Next, it creates a dataframe of all potential binding sites for each protein in our dataset (example set = 64 proteins) with the corresponding binding site score, `prot_scores`. The function then iterates over all drugs and protein binding sites to populate the matrix with the highest tanimoto score. These scores represent how strongly each drug may potentially bind to each protein target. We then output the matrix to a tsv file, `matrix_file`.\n",
    "\n",
    "This function is parallelized, so setting the vairable `ncpus` will change the number of processors that are used for this function."
   ]
  },
  {
   "cell_type": "code",
   "execution_count": 2,
   "metadata": {},
   "outputs": [
    {
     "name": "stdout",
     "output_type": "stream",
     "text": [
      "Compiling compound scores...\n",
      "Compiling binding site scores...\n",
      "Calculating interaction scores...\n",
      "Generating matrix...\n",
      "Matrix written to ./example-matrix.tsv.\n",
      "Matrix generation took 4 min 0 s to finish.\n"
     ]
    }
   ],
   "source": [
    "# generate example cando interaction matrix (2,162 drugs x 64 proteins)\n",
    "cnd.generate_matrix(matrix_file=matrix_file, cmpd_scores=cmpd_scores,\n",
    "                    prot_scores=prot_scores, ncpus=ncpus)"
   ]
  },
  {
   "cell_type": "markdown",
   "metadata": {},
   "source": [
    "## Setting up CANDO object\n",
    "\n",
    "1. First argument, `cmpd_map`, is the compound mapping which specifies all of the compounds in the matrix by name and ID.\n",
    "\n",
    "2. Second argument, `ind_map`, is the indication mapping which specifies which diseases the drugs/compounds are approved to treat.\n",
    "\n",
    "3. `matrix` is the cando interaction matrix file which contains the names of the proteins and the scores to all compounds. **This file must be in tsv format.**\n",
    "\n",
    "4. `compute_distance` tells the object to compute the distances between the compounds in the platform based on the similarity of their interactions with all of the proteins. The distance metric used, `dist_metric`, can be cosine, rmsd, or many other common distance metrics (default is rmsd). This can be relatively time consuming depending on the amount of proteins, but with proteins on the order of hundreds it shouldn't take longer than a minute or two. If the computation does take a while (let's say >100,000 proteins), you can add a `save_rmsds='name_of_rmsd_file.tsv'` flag to save the computation. Then, simply use the `read_rmsds='name_of_rmsd_file.tsv'` to read in the already computed RMSDs to save time. "
   ]
  },
  {
   "cell_type": "code",
   "execution_count": 3,
   "metadata": {},
   "outputs": [
    {
     "name": "stdout",
     "output_type": "stream",
     "text": [
      "Reading signatures from matrix...\n",
      "Done reading signatures.\n",
      "\n",
      "Computing rmsd distances...\n",
      "Done computing rmsd distances.\n"
     ]
    }
   ],
   "source": [
    "# create object using example cando interaction matrix\n",
    "# compute distances using rmsd distance metric\n",
    "cando = cnd.CANDO(cmpd_map, ind_map, matrix=matrix_file, compute_distance=True, \n",
    "                  dist_metric=dist_metric, ncpus=ncpus)"
   ]
  },
  {
   "cell_type": "markdown",
   "metadata": {},
   "source": [
    "### Check data\n",
    "The imported data from `get_tutorial()` contains the CANDO v2.0 mappings with a sample of 64 proteins (for simplicity sake). It should contain the v2.0 set of 2,162 drugs/compounds and 2,178 indications. Let's check to make sure this is the case. The CANDO object should automagically assign each compound its signature of 64 proteins. Let's make sure the first compound in the mapping (bivalirudin) has 64 values in its signature and take a look at the values themselves. Depending on the scoring protocol used, the range/distribution of these values will vary.\n",
    "\n",
    "The `compute_distance` flag above tells the CANDO object to compute the RMSD between each compound on an all-vs-all basis. Let's check out the top5 most similar compounds to bivalirudin. The `Compound.similar` lists are part of the Compound objects and contain a tuple of every other compound object and its computed RMSD."
   ]
  },
  {
   "cell_type": "code",
   "execution_count": 4,
   "metadata": {},
   "outputs": [
    {
     "name": "stdout",
     "output_type": "stream",
     "text": [
      "compounds 2162\n",
      "indications 2178\n",
      "proteins 64\n",
      "\n",
      "bivalirudin 64\n",
      "[0.496, 0.482, 0.385, 0.061, 0.0, 0.11, 0.114, 0.375, 0.109, 0.102, 0.12, 0.418, 0.227, 0.0, 0.417, 0.146, 0.109, 0.129, 0.09, 0.099, 0.137, 0.109, 0.1, 0.109, 0.04, 0.133, 0.101, 0.19, 0.129, 0.077, 0.09, 0.571, 0.134, 0.202, 0.108, 0.408, 0.211, 0.0, 0.188, 0.432, 0.136, 0.116, 0.0, 0.0, 0.195, 0.535, 0.143, 0.232, 0.021, 0.056, 0.09, 0.102, 0.447, 0.114, 0.135, 0.01, 0.127, 0.188, 0.039, 0.096, 0.114, 0.214, 0.128, 0.405]\n",
      "\n",
      "semaglutide 0.0381114730101055\n",
      "tetracosactide 0.038863342303512696\n",
      "lixisenatide 0.04069090807539198\n",
      "corticorelin_ovine_triflutate 0.044826052692602765\n",
      "afamelanotide 0.04829838894828687\n"
     ]
    }
   ],
   "source": [
    "# print cando object stats\n",
    "print('compounds', len(cando.compounds))\n",
    "print('indications', len(cando.indications))\n",
    "print('proteins', len(cando.proteins))\n",
    "print('')\n",
    "\n",
    "# print bivalirudin signature\n",
    "c = cando.compounds[0]\n",
    "print(c.name, len(c.sig))\n",
    "print(c.sig)\n",
    "print('')\n",
    "\n",
    "# top5 most similar compounds to bivalirudin\n",
    "for s in c.similar[0:5]:\n",
    "    print(s[0].name, s[1])"
   ]
  },
  {
   "cell_type": "markdown",
   "metadata": {},
   "source": [
    "## Canbenchmark\n",
    "An important part of CANDO is benchmarking how well we can recapture drugs known to treat the same dieases within their respective `Compound.similar` lists. Currently, our benchmarking code calculates three metrics:\n",
    "1. Average indication accuracy (aia) - this value is the average of every individual indication accuracy\n",
    "2. Average pairwise accuracy (apa) - this value is the weighted average of each individual indication accuracy based on the number of drugs approved to treat it\n",
    "3. Indication coverage (ic) - this is the count of the number of non-zero indication accuracies\n",
    "\n",
    "The higher the metric scores for a given matrix/compound-protein scoring protocol, the more confidence we will have in predictions made using it. \n",
    "\n",
    "An accuracy is calculated for each indication that has at least 2 compounds associated. To do this, we hold out each compound and look for any of the other approved compounds within a certain cutoff of the `Compound.similar` list for the held-out compound. The cutoffs are predetermined to be top10, top25, top50, and top100. There are also percent cutoffs that vary based on the number of compounds in the platform. So, for Indication-A with three drugs approved (D1, D2, and D3), we would hold out D1 and look for *either* D2 or D3 in the top10, top25, top50, and top100 compounds to D1. This would be repeated for D2 and D3. So let's say D3 was recaptured at rank 5 for D1, D1 was recaptured at rank 12 for D2, and D1 was recaptured at rank 27 for D3. The top10 average indication accuracy would be (1+0+0) / 3 == 33%, whereas the top25 would be (1+1+0) / 3 == 66%, and the top50 would be 100%. \n",
    "\n",
    "### Canbenchmark - classic\n",
    "Below is how to run the benchmarking code. The first argument of `benchmark_classic()` is the extension to put on the output files (\"results_analysed_named\" and \"raw_results\"), and the second argument is the full name of the summary file which contains the metric scores at each cutoff (described above). "
   ]
  },
  {
   "cell_type": "code",
   "execution_count": 5,
   "metadata": {
    "scrolled": true
   },
   "outputs": [
    {
     "name": "stdout",
     "output_type": "stream",
     "text": [
      "Directory 'results_analysed_named' does not exist, creating directory\n",
      "Directory 'raw_results' does not exist, creating directory\n",
      "\taia\n",
      "top10\t20.156\n",
      "top25\t26.906\n",
      "top50\t33.976\n",
      "top100\t43.034\n",
      "top2162\t100.000\n",
      "top1%\t25.155\n",
      "top5%\t44.260\n",
      "top10%\t55.990\n",
      "top50%\t87.256\n",
      "top100%\t100.000\n",
      "\n",
      "\n"
     ]
    }
   ],
   "source": [
    "cando.canbenchmark('example')"
   ]
  },
  {
   "cell_type": "markdown",
   "metadata": {},
   "source": [
    "Below is the printed summary file for the classic canbenchmark."
   ]
  },
  {
   "cell_type": "code",
   "execution_count": 6,
   "metadata": {},
   "outputs": [
    {
     "name": "stdout",
     "output_type": "stream",
     "text": [
      "\ttop10\ttop25\ttop50\ttop100\ttop2162\ttop1%\ttop5%\ttop10%\ttop50%\ttop100%\n",
      "aia\t20.156\t26.906\t33.976\t43.034\t100.000\t25.155\t44.260\t55.990\t87.256\t100.000\n",
      "apa\t35.109\t47.776\t59.571\t71.366\t100.000\t44.854\t72.526\t82.681\t97.166\t100.000\n",
      "ic\t792\t902\t984\t1084\t1570\t872\t1098\t1215\t1484\t1570\n",
      "\n"
     ]
    }
   ],
   "source": [
    "with open(\"summary_example.tsv\", 'r') as f:\n",
    "    for line in f:\n",
    "        print(line.strip('\\n'))"
   ]
  },
  {
   "cell_type": "markdown",
   "metadata": {},
   "source": [
    "### Canbenchmark - associated\n",
    "There are variations of the benchmarking code which may be of interest to some users. For example, not every compound in the mapping files are associated with a disease. This can decrease performance. We can have these compounds removed by running another benchmarking method called `benchmark_associated()`, which will automatically filter out these non-associated compounds. "
   ]
  },
  {
   "cell_type": "code",
   "execution_count": 7,
   "metadata": {},
   "outputs": [
    {
     "name": "stdout",
     "output_type": "stream",
     "text": [
      "Making CANDO copy with only benchmarking-associated compounds\n",
      "Reading signatures from matrix...\n",
      "Done reading signatures.\n",
      "\n",
      "Computing rmsd distances...\n",
      "Done computing rmsd distances.\n",
      "\taia\n",
      "top10\t22.845\n",
      "top25\t31.250\n",
      "top50\t39.102\n",
      "top100\t49.247\n",
      "top1403\t100.000\n",
      "top1%\t25.161\n",
      "top5%\t43.697\n",
      "top10%\t54.863\n",
      "top50%\t86.114\n",
      "top100%\t100.000\n",
      "\n",
      "\n"
     ]
    }
   ],
   "source": [
    "cando.canbenchmark_associated('example_associated')"
   ]
  },
  {
   "cell_type": "markdown",
   "metadata": {},
   "source": [
    "Below is the printed summary file for the associated canbenchmark."
   ]
  },
  {
   "cell_type": "code",
   "execution_count": 8,
   "metadata": {},
   "outputs": [
    {
     "name": "stdout",
     "output_type": "stream",
     "text": [
      "\ttop10\ttop25\ttop50\ttop100\ttop1403\ttop1%\ttop5%\ttop10%\ttop50%\ttop100%\n",
      "aia\t22.845\t31.250\t39.102\t49.247\t100.000\t25.161\t43.697\t54.863\t86.114\t100.000\n",
      "apa\t40.528\t55.030\t66.687\t77.173\t100.000\t44.716\t71.952\t81.874\t96.840\t100.000\n",
      "ic\t830\t957\t1043\t1150\t1570\t877\t1090\t1206\t1478\t1570\n",
      "\n"
     ]
    }
   ],
   "source": [
    "with open(\"summary_example_associated.tsv\", 'r') as f:\n",
    "    for line in f:\n",
    "        print(line.strip('\\n'))"
   ]
  },
  {
   "cell_type": "markdown",
   "metadata": {},
   "source": [
    "### Canbenchmark - continuous\n",
    "Yet another variation of our benchmarking is `benchmark_continuous()`. This method identifies percentiles for the compound distances which define our cutoffs. Rather than top10 compounds, we can define an RMSD cutoffs that will not punish a compound that may fall at rank 11, but is still very similar to the hold-out compound. These RMSD cutoffs are determined empirically. "
   ]
  },
  {
   "cell_type": "code",
   "execution_count": 10,
   "metadata": {
    "scrolled": true
   },
   "outputs": [
    {
     "name": "stdout",
     "output_type": "stream",
     "text": [
      "\taia\n",
      "0.1%ile\t10.476\n",
      ".25%ile\t13.654\n",
      "0.5%ile\t16.388\n",
      "1%ile\t19.809\n",
      "5%ile\t34.513\n",
      "10%ile\t43.077\n",
      "20%ile\t55.003\n",
      "33%ile\t66.618\n",
      "50%ile\t77.932\n",
      "100%ile\t100.000\n",
      "\n",
      "\n"
     ]
    }
   ],
   "source": [
    "cando.canbenchmark('example_continuous', continuous=True)"
   ]
  },
  {
   "cell_type": "markdown",
   "metadata": {},
   "source": [
    "Below is the printed summary file for the continuous canbenchmark."
   ]
  },
  {
   "cell_type": "code",
   "execution_count": 12,
   "metadata": {},
   "outputs": [
    {
     "name": "stdout",
     "output_type": "stream",
     "text": [
      "\t0.1%ile\t.25%ile\t0.5%ile\t1%ile\t5%ile\t10%ile\t20%ile\t33%ile\t50%ile\t100%ile\n",
      "aia\t10.476\t13.654\t16.388\t19.809\t34.513\t43.077\t55.003\t66.618\t77.932\t100.000\n",
      "apa\t15.535\t21.518\t26.916\t33.225\t53.550\t62.135\t72.223\t80.316\t87.515\t100.000\n",
      "ic\t566\t638\t690\t740\t932\t1030\t1155\t1279\t1391\t1570\n",
      "\n"
     ]
    }
   ],
   "source": [
    "with open('summary_example_continuous.tsv', 'r') as f:\n",
    "    for line in f:\n",
    "        print(line.strip('\\n'))"
   ]
  },
  {
   "cell_type": "markdown",
   "metadata": {},
   "source": [
    "## Canpredict\n",
    "\n",
    "An important part of CANDO is generating putative drug candidates for a specific disease and predicting indications for which added or current drugs in our library can be therapetuic. We can do this with the canpredict functions.\n",
    "\n",
    "### Canpredict - compounds\n",
    "Generating putative drug candidates for a specific disease is one way we may want to use the predictive power of our platform. For this, we use the `canpredict_compounds()` function, which basically uses a consensus method to rank putative compounds based on how many times they show up as similar to drugs approved to treat the disease within some cutoff. The default cutoff is 10 (the most stringent from benchmarking), but this can be varied. In its current implementation, `canpredict_compounds()` ranks compounds based on the consensus count, but this can be changed in the future to prioritize distance as well. \n",
    "\n",
    "Let's make predictions for breast cancer, or \"Breast Neoplasms\" according to the CTD mapping. This has a MeSH ID of MESH:D001943, which is the input for `canpredict_compounds()`. This list is very long due to the large amount of drugs approved to treat breast cancer, so we should look at only the top10 (default) by setting `n=10`. We will also only print the first 10 compounds (`topN=10`)."
   ]
  },
  {
   "cell_type": "code",
   "execution_count": 13,
   "metadata": {},
   "outputs": [
    {
     "name": "stdout",
     "output_type": "stream",
     "text": [
      "112 compounds found for MESH:D001943 --> Breast Neoplasms\n",
      "Generating compound predictions using top10 most similar compounds...\n",
      "\n",
      "Printing the 10 highest predicted compounds...\n",
      "\n",
      "rank\tscore\tid\tname\n",
      "1\t8\t1364\tomacetaxine_mepesuccinate\n",
      "2\t7\t2064\tasunaprevir\n",
      "3\t5\t1792\tsonidegib\n",
      "4\t5\t1460\tsimeprevir\n",
      "5\t5\t1368\tvoacamine\n",
      "6\t5\t478\tamodiaquine\n",
      "7\t4\t1365\tnilotinib\n",
      "8\t4\t1712\tledipasvir\n",
      "9\t4\t1132\tcefotetan\n",
      "10\t4\t450\tnizatidine\n",
      "\n",
      "\n"
     ]
    }
   ],
   "source": [
    "cando.canpredict_compounds(\"MESH:D001943\", n=10, topX=10)"
   ]
  },
  {
   "cell_type": "markdown",
   "metadata": {},
   "source": [
    "Perhaps using the top10 compounds is not encompassing enough. Let's change it to top25 (n=25) and see if the predictions change. We will still print the first 10 compounds."
   ]
  },
  {
   "cell_type": "code",
   "execution_count": 14,
   "metadata": {},
   "outputs": [
    {
     "name": "stdout",
     "output_type": "stream",
     "text": [
      "112 compounds found for MESH:D001943 --> Breast Neoplasms\n",
      "Generating compound predictions using top25 most similar compounds...\n",
      "\n",
      "Printing the 10 highest predicted compounds...\n",
      "\n",
      "rank\tscore\tid\tname\n",
      "1\t15\t2064\tasunaprevir\n",
      "2\t13\t863\tclobetasol_propionate\n",
      "3\t11\t182\tetonogestrel\n",
      "4\t11\t461\tulobetasol\n",
      "5\t10\t1792\tsonidegib\n",
      "6\t10\t751\trimexolone\n",
      "7\t10\t625\tmometasone\n",
      "8\t10\t478\tamodiaquine\n",
      "9\t9\t1364\tomacetaxine_mepesuccinate\n",
      "10\t9\t1880\tparitaprevir\n",
      "\n",
      "\n"
     ]
    }
   ],
   "source": [
    "cando.canpredict_compounds(\"MESH:D001943\", n=25, topX=10)"
   ]
  },
  {
   "cell_type": "markdown",
   "metadata": {},
   "source": [
    "Now let's print the first 25 compounds predicted for 'Breast Neoplasms' using the top25 most similar compounds. We will also show the compounds that are already approved for 'Breast Neoplasms' (removed by default)."
   ]
  },
  {
   "cell_type": "code",
   "execution_count": 15,
   "metadata": {},
   "outputs": [
    {
     "name": "stdout",
     "output_type": "stream",
     "text": [
      "112 compounds found for MESH:D001943 --> Breast Neoplasms\n",
      "Generating compound predictions using top25 most similar compounds...\n",
      "\n",
      "Printing the 25 highest predicted compounds...\n",
      "\n",
      "rank\tscore\tapproved\tid\tname\n",
      "1\t15\tFalse\t\t2064\tasunaprevir\n",
      "2\t13\tFalse\t\t863\tclobetasol_propionate\n",
      "3\t11\tFalse\t\t182\tetonogestrel\n",
      "4\t11\tFalse\t\t461\tulobetasol\n",
      "5\t10\tFalse\t\t1792\tsonidegib\n",
      "6\t10\tFalse\t\t751\trimexolone\n",
      "7\t10\tFalse\t\t625\tmometasone\n",
      "8\t10\tFalse\t\t478\tamodiaquine\n",
      "9\t9\tFalse\t\t1364\tomacetaxine_mepesuccinate\n",
      "10\t9\tFalse\t\t1880\tparitaprevir\n",
      "11\t9\tFalse\t\t2133\tclobetasone\n",
      "12\t9\tFalse\t\t697\tclocortolone\n",
      "13\t8\tFalse\t\t2059\tgrazoprevir\n",
      "14\t8\tFalse\t\t1896\tosimertinib\n",
      "15\t8\tFalse\t\t453\tfluticasone_propionate\n",
      "16\t8\tFalse\t\t1261\terythrityl_tetranitrate\n",
      "17\t8\tFalse\t\t1509\tnorelgestromin\n",
      "18\t8\tFalse\t\t2102\tvoxilaprevir\n",
      "19\t8\tFalse\t\t1755\ttixocortol\n",
      "20\t8\tFalse\t\t1759\tdifluocortolone\n",
      "21\t8\tFalse\t\t447\tvoriconazole\n",
      "22\t7\tFalse\t\t1536\tcabazitaxel\n",
      "23\t7\tFalse\t\t1095\tretapamulin\n",
      "24\t7\tFalse\t\t562\tnicergoline\n",
      "25\t7\tFalse\t\t143\tmedrysone\n",
      "\n",
      "\n"
     ]
    }
   ],
   "source": [
    "cando.canpredict_compounds(\"MESH:D001943\", n=25, topX=25, \n",
    "                           keep_approved=True)"
   ]
  },
  {
   "cell_type": "markdown",
   "metadata": {},
   "source": [
    "Sometimes there are no compounds associated with a disease, which makes canpredict impossible if considering interactomic homology to approved drugs. In these cases, `ind_id=None` and `sum_scores=True` can be set to simply sum the interaction scores within the matrix and output those with the greatest totals. These parameters can be particularly useful when considering matrices with proteins from pathogens or in combination with the `protein_subset` flag (discussed below). "
   ]
  },
  {
   "cell_type": "code",
   "execution_count": 16,
   "metadata": {},
   "outputs": [
    {
     "name": "stdout",
     "output_type": "stream",
     "text": [
      "Finding compounds with greatest summed scores in ./example-matrix.tsv...\n",
      "Printing the 50 highest predicted compounds...\n",
      "\n",
      "rank\tscore\tid\tname\n",
      "1\t19.46699999999999\t25\tadenosine_monophosphate\n",
      "2\t17.899\t50\tnadh\n",
      "3\t17.508999999999993\t504\tadenosine\n",
      "4\t17.508999999999993\t85\tvidarabine\n",
      "5\t16.704\t1306\tflavin_adenine_dinucleotide\n",
      "6\t15.976\t1334\tlactose\n",
      "7\t15.225\t2131\tinosine_pranobex\n",
      "8\t15.225\t1331\tinosine\n",
      "9\t14.905000000000005\t13\tademetionine\n",
      "10\t14.759\t2022\tarbutin\n",
      "11\t14.256999999999996\t919\tfludarabine\n",
      "12\t14.240999999999994\t838\tcytarabine\n",
      "13\t14.187000000000001\t1602\thyaluronic_acid\n",
      "14\t14.047999999999998\t1108\tnelarabine\n",
      "15\t13.875999999999998\t1950\tsodium_ferric_gluconate_complex\n",
      "16\t13.875999999999998\t1795\tiron_saccharate\n",
      "17\t13.875999999999998\t1301\tsucrose\n",
      "18\t13.847000000000001\t1336\tgluconolactone\n",
      "19\t13.616999999999997\t781\tazacitidine\n",
      "20\t13.411000000000003\t1410\tmipomersen\n",
      "21\t13.195999999999996\t2036\tpolydatin\n",
      "22\t13.190999999999997\t1013\tkanamycin\n",
      "23\t13.129\t446\tlactulose\n",
      "24\t13.102\t1440\tregadenoson\n",
      "25\t12.928\t495\tclofarabine\n",
      "26\t12.823999999999995\t353\tamikacin\n",
      "27\t12.718999999999998\t670\tribavirin\n",
      "28\t12.700999999999999\t927\tstreptomycin\n",
      "29\t12.683\t132\tcladribine\n",
      "30\t12.4\t1315\tribostamycin\n",
      "31\t12.329\t1099\tdecitabine\n",
      "32\t12.3\t1487\tethanolamine_oleate\n",
      "33\t12.3\t1329\toleic_acid\n",
      "34\t12.3\t1321\tpalmitic_acid\n",
      "35\t12.3\t1319\tdoconexent\n",
      "36\t12.3\t1308\tstearic_acid\n",
      "37\t12.3\t1303\tlauric_acid\n",
      "38\t12.3\t52\ticosapent\n",
      "39\t12.3\t47\tdihomo-gamma-linolenic_acid\n",
      "40\t12.3\t26\talpha-linolenic_acid\n",
      "41\t12.293\t1117\tglucosamine\n",
      "42\t12.282999999999992\t419\tpentostatin\n",
      "43\t12.234999999999998\t502\tinulin\n",
      "44\t12.194999999999999\t1191\tparomomycin\n",
      "45\t12.167000000000002\t2062\tthiocolchicoside\n",
      "46\t12.108000000000002\t2130\tesculin\n",
      "47\t12.097000000000003\t1558\tmonoctanoin\n",
      "48\t12.080000000000002\t1102\ttelbivudine\n",
      "49\t12.028999999999998\t1620\ttesamorelin\n",
      "50\t11.922000000000004\t1449\taviptadil\n",
      "\n",
      "\n"
     ]
    }
   ],
   "source": [
    "cando.canpredict_compounds(ind_id=None, topX=50, sum_scores=True)"
   ]
  },
  {
   "cell_type": "markdown",
   "metadata": {},
   "source": [
    "### Canpredict - indications\n",
    "\n",
    "\n",
    "Below we print the first 10 indications predicted for Paromomycin using the top10 most similar compounds. Again, this tallies how many times specific diseases show up as associated with the top10 most similar compounds to paromomycin. "
   ]
  },
  {
   "cell_type": "code",
   "execution_count": 17,
   "metadata": {},
   "outputs": [
    {
     "name": "stdout",
     "output_type": "stream",
     "text": [
      "Using CANDO compound pyridoxal_phosphate\n",
      "Compound has id 10 and index 10\n",
      "Comparing signature to all CANDO compound signatures...\n",
      "Generating indication predictions using top10 most similar compounds...\n",
      "Printing the 10 highest predicted indications...\n",
      "\n",
      "rank\tscore\tind_id    \tindication\n",
      "1\t1\tMESH:D004830\tEpilepsy, Tonic-Clonic\n",
      "2\t1\tMESH:D012640\tSeizures\n",
      "3\t1\tMESH:D013226\tStatus Epilepticus\n",
      "4\t1\tMESH:D017180\tTachycardia, Ventricular\n",
      "5\t1\tMESH:D001249\tAsthma\n",
      "6\t1\tMESH:D029424\tPulmonary Disease, Chronic Obstructive\n",
      "7\t1\tMESH:D015451\tLeukemia, Lymphocytic, Chronic, B-Cell\n",
      "8\t1\tMESH:D007945\tLeukemia, Lymphoid\n",
      "9\t1\tMESH:D016403\tLymphoma, Large B-Cell, Diffuse\n",
      "10\t1\tMESH:D020522\tLymphoma, Mantle-Cell\n",
      "\n"
     ]
    }
   ],
   "source": [
    "cando.canpredict_indications(cando_cmpd=cando.compounds[10], \n",
    "                             n=10, topX=10)"
   ]
  },
  {
   "cell_type": "markdown",
   "metadata": {},
   "source": [
    "### Similar compounds\n",
    "`similar_compounds()` prints the first `n` most similar compounds for a given compound. This, like `canpredict_indications()` can be used with cando compounds, `cando_cmpd`, or novel compounds with a signature file (we will explore this later).\n",
    "\n",
    "Below we print the first 10 most similar compounds to Paromomycin."
   ]
  },
  {
   "cell_type": "code",
   "execution_count": 18,
   "metadata": {},
   "outputs": [
    {
     "name": "stdout",
     "output_type": "stream",
     "text": [
      "Using CANDO compound pyridoxal_phosphate\n",
      "Compound has id 10 and index 10\n",
      "Comparing signature to all CANDO compound signatures...\n",
      "Printing top10 most similar compounds...\n",
      "\n",
      "rank\tdist\tid\tname\n",
      "1\t0.035\t524\tmetaxalone\n",
      "2\t0.039\t1721\ttedizolid_phosphate\n",
      "3\t0.042\t1124\tfosphenytoin\n",
      "4\t0.042\t736\temtricitabine\n",
      "5\t0.045\t683\tenprofylline\n",
      "6\t0.045\t627\tclavulanate\n",
      "7\t0.046\t1726\tibrutinib\n",
      "8\t0.046\t1512\tfospropofol\n",
      "9\t0.046\t946\tcapecitabine\n",
      "10\t0.047\t896\tabacavir\n",
      "\n",
      "\n"
     ]
    }
   ],
   "source": [
    "cando.similar_compounds(cando_cmpd=cando.compounds[10], n=10)"
   ]
  },
  {
   "cell_type": "markdown",
   "metadata": {},
   "source": [
    "## Machine learning with CANDO\n",
    "The \"proteomic vectors\" within CANDO lend themselves well to machine learning to perhaps learn more complex relationships between the proteins within the vector and their impacts on the treatment of diseases. CANDO has built-in ML algorithms that allow for two main functionalities:\n",
    "1. Benchmark the platform using a hold-one-out protocol very similar to canbenchmark\n",
    "2. Make predictions for novel or non-associated compounds that may be therapeutic for a given disease\n",
    "\n",
    "The ML module currently supports 4 algorithms: support vector machines (SVMs), 1-class SVMs, random forests, and logistic regression. The models are trained on drugs approved for the disease (positive classes) and an equal number of randomly selected \"neutral samples\", which are drugs/compounds not approved for the disease (negative samples). Random seeds may be set to ensure the same compounds are used in training. \n",
    "\n",
    "### ML - benchmark\n",
    "We have the option to benchmark the platform with an ML algorithm - this module outputs files very similar to canbenchmark. For this tutorial, we will skip this function as it requires a great deal of time to complete (training a separate model for EVERY drug-disease association, basically). The command to do so with an SVM is below, feel free to run it! The `'out='` flag defines the name of the output files. Again, only diseases with 2+ compounds associated are benchmarked. \n",
    "\n",
    "`cnd.ml(method='smv', benchmark=True, seed=50, out='test_smv')`\n",
    "\n",
    "### ML - predict\n",
    "We can also use this module to predict if a certain compound may be therapeutic for a given disease. We can use the \n",
    "`'predict='` flag to specify a list of compounds that we wish to predict with the classifier. Let's use three drugs, imatinib, buprenorphine, and lisdexamfetamine, and see if they are predicted to be anti-inflammatory using a random forest classifier. "
   ]
  },
  {
   "cell_type": "code",
   "execution_count": 19,
   "metadata": {},
   "outputs": [
    {
     "name": "stdout",
     "output_type": "stream",
     "text": [
      "Indication: Inflammation\n",
      "Leave-one-out cross validation: TP=64, FN=54, Acc=54.237\n",
      "\tCompound\tClass\n",
      "\timatinib\t0\n",
      "\tbuprenorphine\t1\n",
      "\tlisdexamfetamine\t0\n"
     ]
    }
   ],
   "source": [
    "inflm = cando.get_indication('MESH:D007249')\n",
    "\n",
    "imat = cando.get_compound(483)\n",
    "bup = cando.get_compound(775)\n",
    "lamf = cando.get_compound(1094)\n",
    "\n",
    "cando.ml(method='rf', effect=inflm, benchmark=False, seed=50, predict=[imat, bup, lamf])"
   ]
  },
  {
   "cell_type": "markdown",
   "metadata": {},
   "source": [
    "## Custom protein subsets and signatures\n",
    "It may be useful for some users to probe compound-protein interaction similarity, but only in the context of a few particular proteins (e.g. set of kinase inhibitors). Instead of generating a new matrix with all of these proteins and their corresponding interaction values, which can begin to take up a lot of storage if done multiple times, the `'protein_set='` flag can be specified during the instantiation of the CANDO object. This flag contains the path to the protein subset the user wishes to use, which is simply a list of UniProt protein IDs. The CANDO object will automatically check for each ID if it either simply matches any UniProt IDs within the matrix or if that UniProt ID is associated with any PDB chains within the matrix (based on a mapping from the SIFTs project). If there are matches, the CANDO object will now contain Compound objects with only those protein interaction values in their signatures. Below is an example with encompanying benchmark and ML examples. Let's check to see if some of the 20 UniProt IDs in the example list had correspnding PDBs. "
   ]
  },
  {
   "cell_type": "code",
   "execution_count": 20,
   "metadata": {},
   "outputs": [
    {
     "name": "stdout",
     "output_type": "stream",
     "text": [
      "Reading signatures from matrix...\n",
      "Editing signatures according to proteins in ./example-uniprot_set...\n",
      "Downloading UniProt to PDB mapping file...\n"
     ]
    },
    {
     "name": "stderr",
     "output_type": "stream",
     "text": [
      "v2_0/mappings/pdb_2_uniprot.csv [ 25.0 MB] [################] [Time:  0:01:37] \n"
     ]
    },
    {
     "name": "stdout",
     "output_type": "stream",
     "text": [
      "Done reading signatures.\n",
      "\n",
      "Computing rmsd distances...\n",
      "Done computing rmsd distances.\n",
      "Number of proteins in new signature = 20\n"
     ]
    }
   ],
   "source": [
    "cando_subset = cnd.CANDO(cmpd_map, ind_map, matrix=matrix_file, \n",
    "                         compute_distance=True, protein_set=protein_set,\n",
    "                         dist_metric=dist_metric, ncpus=ncpus)\n",
    "\n",
    "print(\"Number of proteins in new signature =\", len(cando_subset.proteins))"
   ]
  },
  {
   "cell_type": "markdown",
   "metadata": {},
   "source": [
    "The signature was successfully edited to 20 proteins. Note: this does not nececessarily mean the each UniProt ID had a corresponding PDB match -- multiple PDB chains can be associated with a given UniProt ID. \n",
    "\n",
    "We can also repeat all benchmarks and predictive algorithms with the new signatures. Below is the default benchmarking results with the new signatures. "
   ]
  },
  {
   "cell_type": "code",
   "execution_count": 22,
   "metadata": {},
   "outputs": [
    {
     "name": "stdout",
     "output_type": "stream",
     "text": [
      "\taia\n",
      "top10\t17.474\n",
      "top25\t24.558\n",
      "top50\t31.322\n",
      "top100\t41.034\n",
      "top2162\t100.000\n",
      "top1%\t23.208\n",
      "top5%\t42.245\n",
      "top10%\t53.989\n",
      "top50%\t87.685\n",
      "top100%\t100.000\n",
      "\n",
      "\n"
     ]
    }
   ],
   "source": [
    "cando_subset.canbenchmark('test_subset')"
   ]
  },
  {
   "cell_type": "markdown",
   "metadata": {},
   "source": [
    "Let's repeat the ML code from above, but this time let's use an SVM. "
   ]
  },
  {
   "cell_type": "code",
   "execution_count": 23,
   "metadata": {},
   "outputs": [
    {
     "name": "stdout",
     "output_type": "stream",
     "text": [
      "Indication: Inflammation\n",
      "Leave-one-out cross validation: TP=104, FN=14, Acc=88.136\n",
      "\tCompound\tClass\n",
      "\timatinib\t1\n",
      "\tbuprenorphine\t1\n",
      "\tlisdexamfetamine\t0\n"
     ]
    }
   ],
   "source": [
    "inflm = cando_subset.get_indication('MESH:D007249')\n",
    "\n",
    "imat = cando_subset.get_compound(483)\n",
    "bup = cando_subset.get_compound(775)\n",
    "lamf = cando_subset.get_compound(1094)\n",
    "\n",
    "cando_subset.ml(method='svm', effect=inflm, benchmark=False, \n",
    "                seed=50, predict=[imat, bup, lamf])"
   ]
  },
  {
   "cell_type": "markdown",
   "metadata": {},
   "source": [
    "## Generate proteomic signatures for new compounds \n",
    "\n",
    "The CANDO platform contains an extensive library of approved drugs (2,162) and other compounds (additional 6,590) from DrugBank. However, if you wish to predict indications or similar drugs for a compound that is not present in our library, we make it possible with the following series of functions.\n",
    "\n",
    "First, You must have the compound properly formatted in PDB file format. There are many programs that provided conversion among many chemical file formats if you require.\n",
    "\n",
    "Next, you can run the `generate_fp()` function. This will populate a tsv file with tanimoto similarity scores (jaccard index) of the provided compound to all binding site ligands in our database. These values will be used for the generation of the drug-proteome signature. The fingerprint used for tanimoto score will be defined by the input for variable 'fp'. The default for this is \"rd_ecfp4\". The tsv file will be saved with the name you provide in cmpd_id (e.g. cmpd_id=7561; \"7561.tsv\") and it will be saved in the directory provided as the out_path along with the fingerprint defined (e.g. out_path=\"examples\"; \"examples/rd_ecfp4/7561.tsv\")."
   ]
  },
  {
   "cell_type": "code",
   "execution_count": null,
   "metadata": {},
   "outputs": [
    {
     "name": "stdout",
     "output_type": "stream",
     "text": [
      "Generating rd_ecfp4 fingerprints and scores...\n",
      "Calculating tanimoto scores for compound 8100 against all binding site ligands...\n"
     ]
    }
   ],
   "source": [
    "cnd.generate_scores(fp=\"rd_ecfp4\", cmpd_pdb=\"8100.pdb\", \n",
    "                    out_path=\".\")\n",
    "cnd.generate_signature(cmpd_scores=\"rd_ecfp4/8100_scores.tsv\",\n",
    "                       prot_scores=prot_scores)"
   ]
  },
  {
   "cell_type": "code",
   "execution_count": null,
   "metadata": {},
   "outputs": [],
   "source": [
    "cando.similar_compounds(new_sig=\"8100_signature.tsv\",\n",
    "                        new_name='scy-635', n=10)"
   ]
  },
  {
   "cell_type": "code",
   "execution_count": null,
   "metadata": {},
   "outputs": [],
   "source": [
    "cando.canpredict_indications(new_sig=\"8100_signature.tsv\",\n",
    "                             new_name='scy-635', n=10, topX=10)"
   ]
  }
 ],
 "metadata": {
  "kernelspec": {
   "display_name": "Python 3",
   "language": "python",
   "name": "python3"
  },
  "language_info": {
   "codemirror_mode": {
    "name": "ipython",
    "version": 3
   },
   "file_extension": ".py",
   "mimetype": "text/x-python",
   "name": "python",
   "nbconvert_exporter": "python",
   "pygments_lexer": "ipython3",
   "version": "3.7.1"
  }
 },
 "nbformat": 4,
 "nbformat_minor": 2
}
